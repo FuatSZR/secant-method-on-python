{
  "nbformat": 4,
  "nbformat_minor": 0,
  "metadata": {
    "colab": {
      "provenance": []
    },
    "kernelspec": {
      "name": "python3",
      "display_name": "Python 3"
    },
    "language_info": {
      "name": "python"
    }
  },
  "cells": [
    {
      "cell_type": "markdown",
      "source": [
        "# Newton-Raphson Metodu\n",
        "---\n",
        "*   Lineer olmayan ve analitik çözümü olmayan bir bilinmeyenli denklemlerin, bir aralıkta çözümünü bulmaya yarar.\n",
        "*   Kök ararken belirlenen aralıktan çıkabilir, işlemler sonunda muhakkak tekrar belirlenen aralıkta sonuç verir. (açık aralık metotdur)\n",
        "*   Kökü bulma konusunda ikiye bölme ve doğrusal interpolasyondan daha hızlıdır.\n",
        "\n"
      ],
      "metadata": {
        "id": "9nr27cH2s5ZJ"
      }
    },
    {
      "cell_type": "markdown",
      "source": [
        "SymPy, matematiksel ifadeler içeren fonksiyonlar üzerinde çalışabilmemizi sağlayan bir kütüphanedir. Burada onu import ediyoruz"
      ],
      "metadata": {
        "id": "wdtNi6v51Wdb"
      }
    },
    {
      "cell_type": "code",
      "execution_count": 82,
      "metadata": {
        "id": "W3N4YXHbi4Ec"
      },
      "outputs": [],
      "source": [
        "import sympy as sp"
      ]
    },
    {
      "cell_type": "markdown",
      "source": [
        "Burada türev almak için fonksiyon oluşturduk. SymPy kütüphanesinin diff fonksiyonu ile türev alıyoruz. bundan önce gönderdiğimiz formülün SymPy a uygunluğuna bakıyoruz. Fonksiyon sonucunda fonksiyonun türevinin yanında x değerini bir sembol olarak gönderiyor."
      ],
      "metadata": {
        "id": "wEZlrOfq1txj"
      }
    },
    {
      "cell_type": "code",
      "source": [
        "def take_derivative(f):\n",
        "    x = sp.Symbol(\"x\")\n",
        "    if isinstance(f, sp.Function):\n",
        "        f_sympy = f(x)\n",
        "    else:\n",
        "        f_sympy = sp.sympify(f(x))\n",
        "\n",
        "    f_prime = sp.diff(f_sympy, x)\n",
        "    return sp.lambdify(x, f_prime)"
      ],
      "metadata": {
        "id": "IM4Dn6m1i_TO"
      },
      "execution_count": 83,
      "outputs": []
    },
    {
      "cell_type": "markdown",
      "source": [
        "Burada Newton-Rapshon yöntemini yapacak fonksiyonu oluşturduk. Fonksiyon 5 parametre alıyor. Bunlar sırayla:\n",
        "- Fonksiyonumuz\n",
        "- Fonksiyonumuzun Türevi\n",
        "- Başlangıç Değeri\n",
        "- Hata Oranı (Tolerans Değeri)\n",
        "- Maksimum İterasyon Sayısı\n",
        "----------------------\n",
        "Öncelikle formülü kod olarak yazıyoruz\n",
        "\n",
        "![image.png](data:image/png;base64,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)\n",
        "```\n",
        "x_i = x_0 - function(x_0) / derivative(x_0)\n",
        "```\n",
        "Daha sonra hata değerimizin altında olup olmadığını kontrol ediyoruz\n",
        "\n",
        "\n",
        "```\n",
        "if abs(x_i - x_0) < tol:\n",
        "```\n",
        "\n",
        "Eğer hata değerimizin altındaysa fonksiyonu sonlandırıp bulunan kökü ve iterasyon değerini döndürüyoruz."
      ],
      "metadata": {
        "id": "Lnc8cnoO3vP4"
      }
    },
    {
      "cell_type": "code",
      "source": [
        "def newton_raphson(function, derivative, x_0, tol=1e-10, max_iter=100):\n",
        "    for i in range(max_iter):\n",
        "        print(\"---------------------------------------------------------\")\n",
        "        x_i = x_0 - function(x_0) / derivative(x_0)\n",
        "        print(f\"{i}. adım:\\n x_i = {round(x_0, 6)} - {round(function(x_0), 6)} / {round(derivative(x_0), 6)}\")\n",
        "        print(f\"Buradan x_i = {round(x_i, 6)} sonucunu alıyoruz.\")\n",
        "        print(f\"{round(x_i, 6)}-{round(x_0, 6)}<{float(tol)} işlemini yaparak hata oranımızdan küçük bir sonuç bulup bulamadığımıza bakıyoruz.\")\n",
        "        if abs(x_i - x_0) < tol:\n",
        "            print(f\"Hata oranımız {x_i - x_0} \\nHata oranımız aralıkta çıktığı için işlemi bitiriyoruz.\")\n",
        "            return (x_i, i)\n",
        "        print(f\"Hata oranımız {x_i - x_0} \\nHata oranımız yüksek çıktığı için devam ediyoruz\")\n",
        "        x_0 = x_i\n",
        "    return (x_i, max_iter)"
      ],
      "metadata": {
        "id": "Hq3VpD18jBUd"
      },
      "execution_count": 84,
      "outputs": []
    },
    {
      "cell_type": "markdown",
      "source": [
        "Girdi olarak fonksiyonu alabilmek için bu fonksiyonu kullanıyoruz"
      ],
      "metadata": {
        "id": "ZFtHHBk765x3"
      }
    },
    {
      "cell_type": "code",
      "source": [
        "def get_function_from_input():\n",
        "    user_function = input(\"Lütfen fonksiyonunuzu giriniz: \")\n",
        "    return lambda x: eval(user_function)"
      ],
      "metadata": {
        "id": "QV6qeC4SrNyx"
      },
      "execution_count": 85,
      "outputs": []
    },
    {
      "cell_type": "markdown",
      "source": [
        "Kullanıcıdan alt sınır, üst sınır, başlangıç değeri, tolerans değeri ve fonksiyonu istiyoruz. Eğer algoritmanın bulduğu kök aralık içindeyse kökü yazıyor, eğer değilse\n",
        "\n",
        "\n",
        "```\n",
        "Kök bulunamadı.\n",
        "Denkleminizin bu aralıkta kökü olduğuna eminseniz lütfen başlangıç noktasını değiştirin.\n",
        "```\n",
        "şeklinde uyarı veriyor.\n"
      ],
      "metadata": {
        "id": "ElEXMmlr7CwX"
      }
    },
    {
      "cell_type": "code",
      "source": [
        "a = int(input(\"alt sınırı giriniz: \"))\n",
        "b = int(input(\"üst sınırı giriniz: \"))\n",
        "x_0 = int(input(\"Başlangıç değerini giriniz: \"))\n",
        "tolerance = float(input(\"Lütfen tolerans aralığını giriniz: \"))\n",
        "user_function = get_function_from_input()\n",
        "print(\"---------------------------------------------------------\")\n",
        "derivative_f = take_derivative(user_function)\n",
        "root, iterations = newton_raphson(user_function, derivative_f, x_0, tol=tolerance)\n",
        "print(\"---------------------------------------------------------\")\n",
        "if root <= b and a <= root:\n",
        "  print(f\"Fonksiyonun kökü: {root} \\nBu kök {iterations} Adımda bulundu\")\n",
        "else:\n",
        "  print(\"Kök bulunamadı. \\nDenkleminizin bu aralıkta kökü olduğuna eminseniz lütfen başlangıç noktasını değiştirin.\")"
      ],
      "metadata": {
        "colab": {
          "base_uri": "https://localhost:8080/"
        },
        "id": "CBJpWJM9jF8R",
        "outputId": "4398a7da-8691-4ef8-d544-967742e9fb74"
      },
      "execution_count": 88,
      "outputs": [
        {
          "output_type": "stream",
          "name": "stdout",
          "text": [
            "alt sınırı giriniz: 0\n",
            "üst sınırı giriniz: 1\n",
            "Başlangıç değerini giriniz: 0\n",
            "Lütfen tolerans aralığını giriniz: 0.000001\n",
            "Lütfen fonksiyonunuzu giriniz: x**3 - 7*x**2 + 14*x - 6\n",
            "---------------------------------------------------------\n",
            "---------------------------------------------------------\n",
            "0. adım:\n",
            " x_i = 0 - -6 / 14\n",
            "Buradan x_i = 0.428571 sonucunu alıyoruz.\n",
            "0.428571-0<1e-06 işlemini yaparak hata oranımızdan küçük bir sonuç bulup bulamadığımıza bakıyoruz.\n",
            "Hata oranımız 0.42857142857142855 \n",
            "Hata oranımız yüksek çıktığı için devam ediyoruz\n",
            "---------------------------------------------------------\n",
            "1. adım:\n",
            " x_i = 0.428571 - -1.206997 / 8.55102\n",
            "Buradan x_i = 0.569724 sonucunu alıyoruz.\n",
            "0.569724-0.428571<1e-06 işlemini yaparak hata oranımızdan küçük bir sonuç bulup bulamadığımıza bakıyoruz.\n",
            "Hata oranımız 0.14115240368223664 \n",
            "Hata oranımız yüksek çıktığı için devam ediyoruz\n",
            "---------------------------------------------------------\n",
            "2. adım:\n",
            " x_i = 0.569724 - -0.111039 / 6.997622\n",
            "Buradan x_i = 0.585592 sonucunu alıyoruz.\n",
            "0.585592-0.569724<1e-06 işlemini yaparak hata oranımızdan küçük bir sonuç bulup bulamadığımıza bakıyoruz.\n",
            "Hata oranımız 0.015868121011880842 \n",
            "Hata oranımız yüksek çıktığı için devam ediyoruz\n",
            "---------------------------------------------------------\n",
            "3. adım:\n",
            " x_i = 0.585592 - -0.001328 / 6.830466\n",
            "Buradan x_i = 0.585786 sonucunu alıyoruz.\n",
            "0.585786-0.585592<1e-06 işlemini yaparak hata oranımızdan küçük bir sonuç bulup bulamadığımıza bakıyoruz.\n",
            "Hata oranımız 0.00019445532772988106 \n",
            "Hata oranımız yüksek çıktığı için devam ediyoruz\n",
            "---------------------------------------------------------\n",
            "4. adım:\n",
            " x_i = 0.585786 - -0.0 / 6.828427\n",
            "Buradan x_i = 0.585786 sonucunu alıyoruz.\n",
            "0.585786-0.585786<1e-06 işlemini yaparak hata oranımızdan küçük bir sonuç bulup bulamadığımıza bakıyoruz.\n",
            "Hata oranımız 2.9033628390351396e-08 \n",
            "Hata oranımız aralıkta çıktığı için işlemi bitiriyoruz.\n",
            "---------------------------------------------------------\n",
            "Fonksiyonun kökü: 0.5857864376269043 \n",
            "Bu kök 4 Adımda bulundu\n"
          ]
        }
      ]
    }
  ]
}